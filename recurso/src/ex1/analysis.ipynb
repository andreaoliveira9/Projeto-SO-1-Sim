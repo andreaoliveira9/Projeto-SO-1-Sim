{
 "cells": [
  {
   "cell_type": "code",
   "execution_count": 10,
   "id": "7cbf2dcd",
   "metadata": {},
   "outputs": [],
   "source": [
    "import config\n",
    "import stats\n",
    "from simulate import simulate\n",
    "import matplotlib.pyplot as plt\n",
    "import random\n",
    "\n",
    "def reset_stats():\n",
    "    stats.delays_type1.clear()\n",
    "    stats.delays_type2.clear()\n",
    "    stats.waiting_times_type1.clear()\n",
    "    stats.waiting_times_type2.clear()\n",
    "    stats.area_num_in_queue_type1 = 0.0\n",
    "    stats.area_num_in_queue_type2 = 0.0\n",
    "    stats.area_num_in_system_type1 = 0.0\n",
    "    stats.area_num_in_system_type2 = 0.0\n",
    "\n",
    "def run_simulation(serversA, serversB, seed=42):\n",
    "    config.NUM_SERVERS_A = serversA\n",
    "    config.NUM_SERVERS_B = serversB\n",
    "    random.seed(seed)\n",
    "    reset_stats()\n",
    "    simulate()\n",
    "    return {\n",
    "        \"A\": serversA,\n",
    "        \"B\": serversB,\n",
    "        \"delay1\": sum(stats.delays_type1) / len(stats.delays_type1) if stats.delays_type1 else 0,\n",
    "        \"delay2\": sum(stats.delays_type2) / len(stats.delays_type2) if stats.delays_type2 else 0,\n",
    "        \"wait1\": sum(stats.waiting_times_type1) / len(stats.waiting_times_type1) if stats.waiting_times_type1 else 0,\n",
    "        \"wait2\": sum(stats.waiting_times_type2) / len(stats.waiting_times_type2) if stats.waiting_times_type2 else 0,\n",
    "        \"q1\": stats.area_num_in_queue_type1 / config.SIM_TIME,\n",
    "        \"q2\": stats.area_num_in_queue_type2 / config.SIM_TIME\n",
    "    }"
   ]
  },
  {
   "cell_type": "markdown",
   "id": "0e13f3dc",
   "metadata": {},
   "source": [
    "## Experiência 1.2.1 — Comparação: 2A+1B vs. 3A+1B"
   ]
  },
  {
   "cell_type": "code",
   "execution_count": 11,
   "id": "e277c92d",
   "metadata": {},
   "outputs": [
    {
     "name": "stdout",
     "output_type": "stream",
     "text": [
      "\n",
      "--------------------Relatório da Simulação--------------------\n",
      "Tipo 1 - atraso médio: 0h 0m 23s\n",
      "Tipo 2 - atraso médio: 0h 0m 30s\n",
      "Tipo 1 - tempo médio no sistema: 0h 1m 18s\n",
      "Tipo 2 - tempo médio no sistema: 0h 1m 6s\n",
      "Tipo 1 - número médio na fila: 0.022402915921717493\n",
      "Tipo 2 - número médio na fila: 0.022090438147559014\n",
      "Tipo 1 - número médio no sistema: 0.6246912798438682\n",
      "Tipo 2 - número médio no sistema: 0.1315312109449201\n",
      "Servidor A1 - % tempo com tipo 1: 36.41%, tipo 2: 7.58%\n",
      "Servidor A2 - % tempo com tipo 1: 18.66%, tipo 2: 3.36%\n",
      "Servidor B1 - % tempo com tipo 1: 5.16%, tipo 2: 10.94%\n",
      "-------------------------------------------------------------\n",
      "\n",
      "\n",
      "--------------------Relatório da Simulação--------------------\n",
      "Tipo 1 - atraso médio: 0h 0m 22s\n",
      "Tipo 2 - atraso médio: 0h 0m 23s\n",
      "Tipo 1 - tempo médio no sistema: 0h 1m 16s\n",
      "Tipo 2 - tempo médio no sistema: 0h 0m 59s\n",
      "Tipo 1 - número médio na fila: 0.006100224988507975\n",
      "Tipo 2 - número médio na fila: 0.010408985938537953\n",
      "Tipo 1 - número médio no sistema: 0.6146257254885028\n",
      "Tipo 2 - número médio no sistema: 0.118245102209209\n",
      "Servidor A1 - % tempo com tipo 1: 34.52%, tipo 2: 7.37%\n",
      "Servidor A2 - % tempo com tipo 1: 17.50%, tipo 2: 2.72%\n",
      "Servidor A3 - % tempo com tipo 1: 7.46%, tipo 2: 0.70%\n",
      "Servidor B1 - % tempo com tipo 1: 1.41%, tipo 2: 10.78%\n",
      "-------------------------------------------------------------\n",
      "\n"
     ]
    },
    {
     "data": {
      "text/plain": [
       "[{'A': 2,\n",
       "  'B': 1,\n",
       "  'delay1': 0.39303361266171044,\n",
       "  'delay2': 0.502055412444523,\n",
       "  'wait1': 1.302994836918156,\n",
       "  'wait2': 1.1138212225171342,\n",
       "  'q1': 0.022402915921717493,\n",
       "  'q2': 0.022090438147559014},\n",
       " {'A': 3,\n",
       "  'B': 1,\n",
       "  'delay1': 0.38126406178174843,\n",
       "  'delay2': 0.3855179977236279,\n",
       "  'wait1': 1.2827526025530436,\n",
       "  'wait2': 0.986103208918956,\n",
       "  'q1': 0.006100224988507975,\n",
       "  'q2': 0.010408985938537953}]"
      ]
     },
     "execution_count": 11,
     "metadata": {},
     "output_type": "execute_result"
    }
   ],
   "source": [
    "result_2A1B = run_simulation(2, 1)\n",
    "result_3A1B = run_simulation(3, 1)\n",
    "\n",
    "[result_2A1B, result_3A1B]"
   ]
  },
  {
   "cell_type": "markdown",
   "id": "2653117c",
   "metadata": {},
   "source": [
    "## Experiência 1.2.2 — Comparação: 2A+1B vs. 2A+2B"
   ]
  },
  {
   "cell_type": "code",
   "execution_count": 12,
   "id": "a4e730a2",
   "metadata": {},
   "outputs": [
    {
     "name": "stdout",
     "output_type": "stream",
     "text": [
      "\n",
      "--------------------Relatório da Simulação--------------------\n",
      "Tipo 1 - atraso médio: 0h 0m 23s\n",
      "Tipo 2 - atraso médio: 0h 0m 30s\n",
      "Tipo 1 - tempo médio no sistema: 0h 1m 18s\n",
      "Tipo 2 - tempo médio no sistema: 0h 1m 6s\n",
      "Tipo 1 - número médio na fila: 0.022402915921717493\n",
      "Tipo 2 - número médio na fila: 0.022090438147559014\n",
      "Tipo 1 - número médio no sistema: 0.6246912798438682\n",
      "Tipo 2 - número médio no sistema: 0.1315312109449201\n",
      "Servidor A1 - % tempo com tipo 1: 36.41%, tipo 2: 7.58%\n",
      "Servidor A2 - % tempo com tipo 1: 18.66%, tipo 2: 3.36%\n",
      "Servidor B1 - % tempo com tipo 1: 5.16%, tipo 2: 10.94%\n",
      "-------------------------------------------------------------\n",
      "\n",
      "\n",
      "--------------------Relatório da Simulação--------------------\n",
      "Tipo 1 - atraso médio: 0h 0m 24s\n",
      "Tipo 2 - atraso médio: 0h 0m 22s\n",
      "Tipo 1 - tempo médio no sistema: 0h 1m 5s\n",
      "Tipo 2 - tempo médio no sistema: 0h 0m 59s\n",
      "Tipo 1 - número médio na fila: 0.006478148761118391\n",
      "Tipo 2 - número médio na fila: 0.009306892564709542\n",
      "Tipo 1 - número médio no sistema: 0.6126434372818763\n",
      "Tipo 2 - número médio no sistema: 0.11724384490522137\n",
      "Servidor A1 - % tempo com tipo 1: 34.55%, tipo 2: 6.97%\n",
      "Servidor A2 - % tempo com tipo 1: 17.21%, tipo 2: 3.82%\n",
      "Servidor B1 - % tempo com tipo 1: 4.87%, tipo 2: 9.54%\n",
      "Servidor B2 - % tempo com tipo 1: 3.98%, tipo 2: 1.26%\n",
      "-------------------------------------------------------------\n",
      "\n"
     ]
    },
    {
     "data": {
      "text/plain": [
       "[{'A': 2,\n",
       "  'B': 1,\n",
       "  'delay1': 0.39303361266171044,\n",
       "  'delay2': 0.502055412444523,\n",
       "  'wait1': 1.302994836918156,\n",
       "  'wait2': 1.1138212225171342,\n",
       "  'q1': 0.022402915921717493,\n",
       "  'q2': 0.022090438147559014},\n",
       " {'A': 2,\n",
       "  'B': 2,\n",
       "  'delay1': 0.4048842975698994,\n",
       "  'delay2': 0.3722757025883817,\n",
       "  'wait1': 1.09568175869132,\n",
       "  'wait2': 0.9840665463891719,\n",
       "  'q1': 0.006478148761118391,\n",
       "  'q2': 0.009306892564709542}]"
      ]
     },
     "execution_count": 12,
     "metadata": {},
     "output_type": "execute_result"
    }
   ],
   "source": [
    "result_2A1B_b = run_simulation(2, 1)\n",
    "result_2A2B = run_simulation(2, 2)\n",
    "\n",
    "[result_2A1B_b, result_2A2B]"
   ]
  },
  {
   "cell_type": "markdown",
   "id": "340a12c8",
   "metadata": {},
   "source": [
    "## Comparação visual dos delays médios"
   ]
  },
  {
   "cell_type": "code",
   "execution_count": 13,
   "id": "146f571e",
   "metadata": {},
   "outputs": [
    {
     "data": {
      "image/png": "[encoded data removed]",
      "text/plain": [
       "<Figure size 1000x500 with 1 Axes>"
      ]
     },
     "metadata": {},
     "output_type": "display_data"
    }
   ],
   "source": [
    "import numpy as np\n",
    "\n",
    "labels = [\"2A+1B\", \"3A+1B\", \"2A+2B\"]\n",
    "delays1 = [result_2A1B[\"delay1\"], result_3A1B[\"delay1\"], result_2A2B[\"delay1\"]]\n",
    "delays2 = [result_2A1B[\"delay2\"], result_3A1B[\"delay2\"], result_2A2B[\"delay2\"]]\n",
    "\n",
    "x = np.arange(len(labels))\n",
    "width = 0.35\n",
    "\n",
    "plt.figure(figsize=(10, 5))\n",
    "plt.bar(x - width/2, delays1, width, label=\"Tipo 1\")\n",
    "plt.bar(x + width/2, delays2, width, label=\"Tipo 2\")\n",
    "\n",
    "plt.xticks(x, labels)\n",
    "plt.ylabel(\"Delay médio (min)\")\n",
    "plt.title(\"Comparação de delay médio por configuração\")\n",
    "plt.legend()\n",
    "plt.grid(True)\n",
    "plt.show()"
   ]
  }
 ],
 "metadata": {
  "kernelspec": {
   "display_name": ".venv",
   "language": "python",
   "name": "python3"
  },
  "language_info": {
   "codemirror_mode": {
    "name": "ipython",
    "version": 3
   },
   "file_extension": ".py",
   "mimetype": "text/x-python",
   "name": "python",
   "nbconvert_exporter": "python",
   "pygments_lexer": "ipython3",
   "version": "3.9.6"
  }
 },
 "nbformat": 4,
 "nbformat_minor": 5
}
