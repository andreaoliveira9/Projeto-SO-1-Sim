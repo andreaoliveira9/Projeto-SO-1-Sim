{
 "cells": [
  {
   "cell_type": "code",
   "execution_count": null,
   "id": "7cbf2dcd",
   "metadata": {},
   "outputs": [],
   "source": [
    "import config\n",
    "import stats\n",
    "from simulate import simulate\n",
    "import random\n",
    "\n",
    "def format_time(minutes):\n",
    "    h = int(minutes // 60)\n",
    "    m = int(minutes % 60)\n",
    "    s = int((minutes - int(minutes)) * 60)\n",
    "    return f\"{h}h {m}m {s}s\"\n",
    "    \n",
    "def reset_statistics():\n",
    "    stats.delays_type1.clear()\n",
    "    stats.delays_type2.clear()\n",
    "    stats.waiting_times_type1.clear()\n",
    "    stats.waiting_times_type2.clear()\n",
    "    stats.area_num_in_queue_type1 = 0.0\n",
    "    stats.area_num_in_queue_type2 = 0.0\n",
    "    stats.area_num_in_system_type1 = 0.0\n",
    "    stats.area_num_in_system_type2 = 0.0\n",
    "\n",
    "def run_simulation(n=100, serversA=2, serversB=1, print_stats=True):\n",
    "    results = []\n",
    "\n",
    "    for seed in range(n):\n",
    "        config.NUM_SERVERS_A = serversA\n",
    "        config.NUM_SERVERS_B = serversB\n",
    "        random.seed(seed)\n",
    "        reset_statistics()\n",
    "        simulate(print_stats=print_stats)\n",
    "        dict_stats = {\n",
    "            \"delay1\": sum(stats.delays_type1) / len(stats.delays_type1) if stats.delays_type1 else 0,\n",
    "            \"delay2\": sum(stats.delays_type2) / len(stats.delays_type2) if stats.delays_type2 else 0,\n",
    "            \"waiting1\": sum(stats.waiting_times_type1) / len(stats.waiting_times_type1) if stats.waiting_times_type1 else 0,\n",
    "            \"waiting2\": sum(stats.waiting_times_type2) / len(stats.waiting_times_type2) if stats.waiting_times_type2 else 0,\n",
    "            \"queue1\": stats.area_num_in_queue_type1 / config.SIM_TIME,\n",
    "            \"queue2\": stats.area_num_in_queue_type2 / config.SIM_TIME,\n",
    "            \"system1\": stats.area_num_in_system_type1 / config.SIM_TIME,\n",
    "            \"system2\": stats.area_num_in_system_type2 / config.SIM_TIME,\n",
    "        }\n",
    "        \n",
    "        for i in range(len(stats.server_A_time_type1)):\n",
    "            key_A1 = f\"utilA{i+1}_type1\"\n",
    "            key_A2 = f\"utilA{i+1}_type2\"\n",
    "            dict_stats[key_A1] = 100 * stats.server_A_time_type1[i] / config.SIM_TIME\n",
    "            dict_stats[key_A2] = 100 * stats.server_A_time_type2[i] / config.SIM_TIME\n",
    "\n",
    "        for i in range(len(stats.server_B_time_type1)):\n",
    "            key_B1 = f\"utilB{i+1}_type1\"\n",
    "            key_B2 = f\"utilB{i+1}_type2\"\n",
    "            dict_stats[key_B1] = 100 * stats.server_B_time_type1[i] / config.SIM_TIME\n",
    "            dict_stats[key_B2] = 100 * stats.server_B_time_type2[i] / config.SIM_TIME\n",
    "\n",
    "        results.append(dict_stats)\n",
    "\n",
    "    return results"
   ]
  },
  {
   "cell_type": "markdown",
   "id": "e9dc8006",
   "metadata": {},
   "source": [
    "## Resultados com parâmetros do enunciado"
   ]
  },
  {
   "cell_type": "code",
   "execution_count": 6,
   "id": "2d68bdc7",
   "metadata": {},
   "outputs": [
    {
     "name": "stdout",
     "output_type": "stream",
     "text": [
      "Average delay for type 1: 0h 0m 21s\n",
      "Average delay for type 2: 0h 0m 37s\n",
      "Average waiting time for type 1: 0h 1m 10s\n",
      "Average waiting time for type 2: 0h 1m 13s\n",
      "Average number in queue for type 1: 0.02\n",
      "Average number in queue for type 2: 0.03\n",
      "Average number in system for type 1: 0.66\n",
      "Average number in system for type 2: 0.15\n",
      "Average utilization of server A1 for type 1: 37.25%\n",
      "Average utilization of server A1 for type 2: 8.25%\n",
      "Average utilization of server A2 for type 1: 20.72%\n",
      "Average utilization of server A2 for type 2: 3.83%\n",
      "Average utilization of server B1 for type 1: 6.08%\n",
      "Average utilization of server B1 for type 2: 12.08%\n"
     ]
    }
   ],
   "source": [
    "result = run_simulation(print_stats=False)\n",
    "\n",
    "print(f\"Average delay for type 1: {format_time(sum(r['delay1'] for r in result) / len(result))}\")\n",
    "print(f\"Average delay for type 2: {format_time(sum(r['delay2'] for r in result) / len(result))}\")\n",
    "print(f\"Average waiting time for type 1: {format_time(sum(r['waiting1'] for r in result) / len(result))}\")\n",
    "print(f\"Average waiting time for type 2: {format_time(sum(r['waiting2'] for r in result) / len(result))}\")\n",
    "print(f\"Average number in queue for type 1: {sum(r['queue1'] for r in result) / len(result):.2f}\")\n",
    "print(f\"Average number in queue for type 2: {sum(r['queue2'] for r in result) / len(result):.2f}\")\n",
    "print(f\"Average number in system for type 1: {sum(r['system1'] for r in result) / len(result):.2f}\")\n",
    "print(f\"Average number in system for type 2: {sum(r['system2'] for r in result) / len(result):.2f}\")\n",
    "for i in range(1, config.NUM_SERVERS_A + 1):\n",
    "    util_A1 = sum(r[f'utilA{i}_type1'] for r in result) / len(result)\n",
    "    util_A2 = sum(r[f'utilA{i}_type2'] for r in result) / len(result)\n",
    "    print(f\"Average utilization of server A{i} for type 1: {util_A1:.2f}%\")\n",
    "    print(f\"Average utilization of server A{i} for type 2: {util_A2:.2f}%\")\n",
    "for i in range(1, config.NUM_SERVERS_B + 1):\n",
    "    util_B1 = sum(r[f'utilB{i}_type1'] for r in result) / len(result)\n",
    "    util_B2 = sum(r[f'utilB{i}_type2'] for r in result) / len(result)\n",
    "    print(f\"Average utilization of server B{i} for type 1: {util_B1:.2f}%\")\n",
    "    print(f\"Average utilization of server B{i} for type 2: {util_B2:.2f}%\")"
   ]
  },
  {
   "cell_type": "markdown",
   "id": "0e13f3dc",
   "metadata": {},
   "source": [
    "## Comparação: 2A+1B vs. 3A+1B vs. 2A+2B"
   ]
  },
  {
   "cell_type": "code",
   "execution_count": 7,
   "id": "e277c92d",
   "metadata": {},
   "outputs": [],
   "source": [
    "result_2A1B = run_simulation(print_stats=False)\n",
    "result_3A1B = run_simulation(serversA=3, serversB=1, print_stats=False)\n",
    "result_2A2B = run_simulation(serversA=2, serversB=2, print_stats=False)"
   ]
  },
  {
   "cell_type": "markdown",
   "id": "340a12c8",
   "metadata": {},
   "source": [
    "## Comparação visual dos delays médios"
   ]
  },
  {
   "cell_type": "code",
   "execution_count": null,
   "id": "146f571e",
   "metadata": {},
   "outputs": [
    {
     "name": "stdout",
     "output_type": "stream",
     "text": [
      "Total combined maximum delay (Type 1) - 2A+1B/3A+1B + 2A+1B/2A+2B: 1.263 min\n",
      "Total combined maximum delay (Type 2) - 2A+1B/3A+1B + 2A+1B/2A+2B: 2.001 min\n"
     ]
    },
    {
     "data": {
      "image/png": "[encoded data removed]",
      "text/plain": [
       "<Figure size 1000x500 with 1 Axes>"
      ]
     },
     "metadata": {},
     "output_type": "display_data"
    }
   ],
   "source": [
    "import numpy as np\n",
    "import matplotlib.pyplot as plt\n",
    "\n",
    "max_delay1_2A1B = np.max([r[\"delay1\"] for r in result_2A1B])\n",
    "max_delay1_3A1B = np.max([r[\"delay1\"] for r in result_3A1B])\n",
    "max_delay1_2A2B = np.max([r[\"delay1\"] for r in result_2A2B])\n",
    "\n",
    "max_delay2_2A1B = np.max([r[\"delay2\"] for r in result_2A1B])\n",
    "max_delay2_3A1B = np.max([r[\"delay2\"] for r in result_3A1B])\n",
    "max_delay2_2A2B = np.max([r[\"delay2\"] for r in result_2A2B])\n",
    "\n",
    "max_delay1_1 = np.max([max_delay1_2A1B, max_delay1_3A1B])\n",
    "max_delay2_1 = np.max([max_delay2_2A1B, max_delay2_3A1B])\n",
    "max_delay1_2 = np.max([max_delay1_2A1B, max_delay1_2A2B])\n",
    "max_delay2_2 = np.max([max_delay2_2A1B, max_delay2_2A2B])\n",
    "\n",
    "total_max_delay_type1 = sum([max_delay1_1, max_delay1_2])\n",
    "total_max_delay_type2 = sum([max_delay2_1, max_delay2_2])\n",
    "\n",
    "print(f\"Total combined maximum delay (Type 1) - 2A+1B/3A+1B + 2A+1B/2A+2B: {total_max_delay_type1:.3f} min\")\n",
    "print(f\"Total combined maximum delay (Type 2) - 2A+1B/3A+1B + 2A+1B/2A+2B: {total_max_delay_type2:.3f} min\")\n",
    "\n",
    "labels = [\"2A+1B\", \"3A+1B\", \"2A+2B\"]\n",
    "delays1 = [max_delay1_2A1B, max_delay1_3A1B, max_delay1_2A2B]\n",
    "delays2 = [max_delay2_2A1B, max_delay2_3A1B, max_delay2_2A2B]\n",
    "\n",
    "x = np.arange(len(labels))\n",
    "width = 0.35\n",
    "\n",
    "plt.figure(figsize=(10, 5))\n",
    "plt.bar(x - width/2, delays1, width, label=\"Tipo 1\")\n",
    "plt.bar(x + width/2, delays2, width, label=\"Tipo 2\")\n",
    "\n",
    "plt.xticks(x, labels)\n",
    "plt.ylabel(\"Máximo delay médio na fila (min)\")\n",
    "plt.title(\"Comparação de máximo delay médio na fila por configuração (100 simulações)\")\n",
    "plt.legend()\n",
    "plt.grid(True)\n",
    "plt.show()"
   ]
  }
 ],
 "metadata": {
  "kernelspec": {
   "display_name": "venv",
   "language": "python",
   "name": "python3"
  },
  "language_info": {
   "codemirror_mode": {
    "name": "ipython",
    "version": 3
   },
   "file_extension": ".py",
   "mimetype": "text/x-python",
   "name": "python",
   "nbconvert_exporter": "python",
   "pygments_lexer": "ipython3",
   "version": "3.9.6"
  }
 },
 "nbformat": 4,
 "nbformat_minor": 5
}
